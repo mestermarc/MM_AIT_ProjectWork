{
 "cells": [
  {
   "cell_type": "code",
   "execution_count": 1,
   "metadata": {},
   "outputs": [],
   "source": [
    "import tensorflow as tf\n",
    "\n",
    "from numpy import load\n",
    "import matplotlib.pyplot as plt\n",
    "import numpy as np\n",
    "import os\n",
    "import pandas as pd"
   ]
  },
  {
   "cell_type": "code",
   "execution_count": 2,
   "metadata": {},
   "outputs": [
    {
     "name": "stdout",
     "output_type": "stream",
     "text": [
      "6\n",
      "Adatok:\n",
      "train_images : 7007 db\n",
      "val_images : 1003 db\n",
      "test_images : 2005 db\n",
      "train_labels : 7007 db\n",
      "val_labels : 1003 db\n",
      "test_labels : 2005 db\n"
     ]
    }
   ],
   "source": [
    "data = load('datasets/dermamnist.npz')\n",
    "lst = data.files\n",
    "print(len(lst))\n",
    "print(\"Adatok:\")\n",
    "for i in range(6):\n",
    "    print(lst[i],':',len(data[lst[i]]), \"db\")"
   ]
  },
  {
   "cell_type": "code",
   "execution_count": 3,
   "metadata": {},
   "outputs": [
    {
     "name": "stdout",
     "output_type": "stream",
     "text": [
      "10015\n",
      "10015\n"
     ]
    }
   ],
   "source": [
    "target = [] #---> 0,1,2,3\n",
    "image_data = [] #---->array\n",
    "\n",
    "target = np.concatenate((data[lst[3]].flatten(), data[lst[4]].flatten(),data[lst[5]].flatten()))\n",
    "image_data = np.concatenate((data[lst[0]], data[lst[1]],data[lst[2]]))\n",
    "\n",
    "print(len(target))\n",
    "print(len(image_data))\n",
    "\n",
    "data_size = len(target)"
   ]
  },
  {
   "cell_type": "code",
   "execution_count": 4,
   "metadata": {},
   "outputs": [
    {
     "data": {
      "text/plain": [
       "(10015, 28, 28, 3)"
      ]
     },
     "execution_count": 4,
     "metadata": {},
     "output_type": "execute_result"
    }
   ],
   "source": [
    "image_data.shape "
   ]
  },
  {
   "cell_type": "code",
   "execution_count": 6,
   "metadata": {},
   "outputs": [
    {
     "data": {
      "image/png": "[encoded data removed]",
      "text/plain": [
       "<Figure size 432x288 with 1 Axes>"
      ]
     },
     "metadata": {
      "needs_background": "light"
     },
     "output_type": "display_data"
    }
   ],
   "source": [
    "for i in range(10) :\n",
    "    plt.imshow(image_data[i])"
   ]
  },
  {
   "cell_type": "code",
   "execution_count": null,
   "metadata": {},
   "outputs": [],
   "source": []
  }
 ],
 "metadata": {
  "kernelspec": {
   "display_name": "Python 3",
   "language": "python",
   "name": "python3"
  },
  "language_info": {
   "codemirror_mode": {
    "name": "ipython",
    "version": 3
   },
   "file_extension": ".py",
   "mimetype": "text/x-python",
   "name": "python",
   "nbconvert_exporter": "python",
   "pygments_lexer": "ipython3",
   "version": "3.8.3"
  }
 },
 "nbformat": 4,
 "nbformat_minor": 4
}
